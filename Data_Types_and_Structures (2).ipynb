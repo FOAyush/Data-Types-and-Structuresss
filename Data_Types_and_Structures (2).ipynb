{
  "cells": [
    {
      "cell_type": "markdown",
      "metadata": {
        "id": "FvyY8grS5qR7"
      },
      "source": [
        "1)  What are data structures, and why are they important?\n",
        "\n",
        "Ans)-> Data structures are essential tools in computer science that provide different ways to organize and store data so it can be accessed and modified efficiently. They serve as the foundation for designing efficient algorithms and managing large volumes of data in software applications. Common data structures include arrays, linked lists, stacks, queues, trees, graphs, and hash tables, each suited to specific types of operations. For instance, arrays allow quick access to elements using indices, while linked lists enable efficient insertion and deletion. Stacks and queues help manage data in a particular order, and trees and graphs are ideal for representing hierarchical and networked data, respectively. Choosing the right data structure can significantly enhance an application’s performance, making operations like searching, sorting, and updating data much faster. Ultimately, data structures are vital for building scalable, organized, and efficient systems.\n",
        "\n",
        "\n",
        "2) Explain the difference between mutable and immutable data types with examples.\n",
        "\n",
        "Ans)->  In Python, the key difference between mutable and immutable data types lies in whether their content can be changed after they are created. Mutable data types allow modification of their values in place without changing their identity. Common mutable types include lists, dictionaries, and sets. For example, if you have a list my_list = [1, 2, 3], you can modify it by adding an element with my_list.append(4), and the original list is updated. On the other hand, immutable data types do not allow changes to their values once created. This means any modification results in the creation of a new object. Examples of immutable types include integers, floats, strings, and tuples. For instance, if you assign name = \"Alice\" and then try to change it with name += \" Smith\", a new string is created, and name now refers to a different object. Understanding this distinction is important for writing efficient and bug-free code, especially when dealing with data structures or passing variables to functions.\n",
        "\n",
        "\n",
        "3) What are the main differences between lists and tuples in Python?\n",
        "\n",
        "Ans)-> In Python, the main difference between lists and tuples lies in their mutability and intended use. Lists are mutable, meaning their contents can be changed after creation—you can add, remove, or modify elements within a list. They are defined using square brackets, such as my_list = [1, 2, 3]. In contrast, tuples are immutable, which means their contents cannot be altered once they are created. Tuples use parentheses for their definition, like my_tuple = (1, 2, 3). Because of their immutability, tuples are generally faster and more memory-efficient than lists, making them suitable for fixed collections of data, such as coordinates or constant configuration values. Lists, on the other hand, are ideal for situations where the data may need to change over time. Choosing between lists and tuples depends on whether or not the data needs to be modified, as well as considerations around performance and data integrity.\n",
        "\n",
        "\n",
        "4) Describe how dictionaries store data.\n",
        "\n",
        "Ans)-> In Python, dictionaries store data as key-value pairs, where each unique key maps to a specific value. Internally, Python uses a hash table to implement dictionaries, which allows for very fast lookup, insertion, and deletion operations. When a key-value pair is added to a dictionary, the key is passed through a hash function that computes an index for where the value should be stored in memory. This hashed index ensures that the value can be retrieved quickly using its key. Keys in a dictionary must be immutable (like strings, numbers, or tuples), while values can be of any data type and even be duplicated. For example, in my_dict = {\"name\": \"Alice\", \"age\": 30}, \"name\" and \"age\" are the keys, and \"Alice\" and 30 are their corresponding values. If you later access my_dict[\"age\"], Python quickly computes the hash for \"age\" and retrieves 30. This structure makes dictionaries highly efficient for situations where quick access to data by a unique identifier is needed.\n",
        "\n",
        "5) Why might you use a set instead of a list in Python?\n",
        "\n",
        "Ans)->You might use a set instead of a list in Python when you need to store unique items and care about fast membership testing. Sets automatically eliminate duplicate elements, so if you add the same item more than once, it will only appear once in the set. This makes sets ideal for tasks like removing duplicates from a list or checking whether an item exists in a collection—operations that are much faster in a set due to its underlying hash table structure. Unlike lists, sets are unordered, meaning they do not preserve the insertion order of elements (prior to Python 3.7 this was always the case, though from 3.7 onward the insertion order is maintained as a side effect but not guaranteed by the specification). For example, using a set to check if an email address has already been seen during validation is more efficient than scanning a list each time. However, if you need to maintain order or allow duplicates, a list would be more appropriate.\n",
        "\n",
        "6) What is a string in Python, and how is it different from a list?\n",
        "\n",
        "Ans)-> In Python, a string is a sequence of characters enclosed in quotes, such as \"hello\" or 'Python 3.12'. Strings are immutable, meaning once they are created, their contents cannot be changed—you cannot modify individual characters within a string directly. On the other hand, a list is a mutable sequence that can contain elements of any data type, including strings, numbers, or even other lists. Lists are defined using square brackets, like [1, 2, 3] or [\"a\", \"b\", \"c\"], and their contents can be modified—elements can be added, removed, or changed.\n",
        "\n",
        "While both strings and lists support indexing, slicing, and iteration, the key difference lies in mutability and data type flexibility. Strings are specifically designed to handle textual data and remain unchanged, while lists are general-purpose containers meant for managing collections of elements that may vary over time. This distinction is important when choosing how to store and manipulate different kinds of data in a Python program.\n",
        "\n",
        "7)  How do tuples ensure data integrity in Python?\n",
        "\n",
        "Ans)-> Tuples ensure data integrity in Python by being immutable, meaning their contents cannot be changed after creation. Once a tuple is defined, you cannot add, remove, or modify any of its elements. This immutability helps protect the data from accidental changes, especially in larger programs where variables might be passed through many functions. Because tuples preserve their original state, they are often used to store fixed configurations, constant values, or data that should remain consistent throughout the program. Additionally, their immutability allows them to be used as keys in dictionaries or elements in sets, which require hashable (and therefore immutable) types. This makes tuples a reliable choice when you need a secure, unchangeable collection of items that guarantees data consistency.\n",
        "\n",
        "\n",
        "8) What is a hash table, and how does it relate to dictionaries in Python?\n",
        "\n",
        "Ans)-> A hash table is a data structure that stores data in a way that allows for fast access, insertion, and deletion. It uses a hash function to map keys to specific indices in an underlying array, allowing for quick lookups based on those keys. The idea is that the hash function takes a key, processes it to produce a fixed-size hash code (an integer), and uses that hash code as an index to store or retrieve the associated value. If multiple keys map to the same index (a collision), the hash table handles this using techniques like chaining or open addressing.\n",
        "\n",
        "In Python, the built-in dictionary is implemented using a hash table. Each key in a dictionary is hashed, and the corresponding value is stored at the index derived from that hash. When you access a dictionary using a key, Python quickly computes the hash for that key, finds the corresponding index, and retrieves the associated value in constant time, on average. This makes dictionaries highly efficient for operations like searching, adding, and removing items. Since dictionary keys must be immutable (and thus hashable), they can be processed by the hash function, whereas values can be any data type. The relationship between hash tables and dictionaries in Python is that dictionaries essentially use a hash table under the hood to provide fast, efficient key-value pair storage and retrieval.\n",
        "\n",
        "\n",
        "9) Can lists contain different data types in Python?\n",
        "\n",
        "Ans)-> Yes, lists in Python can contain elements of different data types.\n",
        "\n",
        "\n",
        "10) Explain why strings are immutable in Python.\n",
        "\n",
        "Ans)-> Strings in Python are immutable to ensure data integrity, improve performance, and optimize memory management. Once a string is created, its content cannot be modified, which allows Python to make several optimizations. For example, immutable strings enable string interning, where identical strings are stored in the same memory location, reducing memory usage and speeding up string comparisons. Additionally, immutability makes strings hashable, meaning they can be used as keys in dictionaries and elements in sets, ensuring reliable and efficient lookups. This also contributes to safety and integrity, as the string's value remains unchanged throughout the program, preventing accidental modifications. Furthermore, immutability makes strings thread-safe, allowing them to be shared across multiple threads without the risk of data corruption. These benefits make strings a highly efficient and reliable data type in Python. If you need a sequence of characters that can be modified, you can use a list or bytearray instead.\n",
        "\n",
        "\n",
        "11) What advantages do dictionaries offer over lists for certain tasks?\n",
        "\n",
        "Ans)-> Dictionaries offer several advantages over lists for tasks that require fast access, efficient data organization, and key-value pair mappings. One of the main benefits of dictionaries is their ability to provide fast lookups based on unique keys, allowing for average constant time complexity (O(1)) when retrieving values. This makes them much more efficient than lists, which require linear time (O(n)) to search for an item by value. Dictionaries store data as key-value pairs, which is ideal when you need to associate unique identifiers with specific values, such as mapping a user ID to user details. Additionally, dictionaries do not allow duplicate keys, ensuring that each key maps to a unique piece of data, unlike lists that can contain duplicates. They also offer greater flexibility with data types, as dictionary keys can be of any immutable type (e.g., strings, numbers, tuples), which allows for more complex data representations. Furthermore, updating values in dictionaries is straightforward, as you can simply reference the key, whereas modifying a list element requires knowing its index position. Overall, dictionaries excel in situations that demand fast lookups, unique associations, and flexible data structures, while lists are better suited for ordered collections without the need for key-based organization.\n",
        "\n",
        "\n",
        "12) Describe a scenario where using a tuple would be preferable over a list.\n",
        "\n",
        "Ans)-> A scenario where using a tuple would be preferable over a list is when you need to store fixed data that should remain unchanged, such as geographic coordinates. For instance, if you're working with a system that stores the latitude and longitude of a specific location, a tuple would be ideal. Since the coordinates are not expected to change during the program's execution, using a tuple ensures data integrity by preventing accidental modification of the values. Tuples are also more memory-efficient and slightly faster for accessing elements compared to lists, making them a better choice for fixed collections of data. Additionally, tuples are immutable, which allows them to be used as keys in dictionaries or elements in sets, whereas lists cannot due to their mutability. Therefore, when you need to store constant data that should not be altered, a tuple provides both performance benefits and guarantees that the data will remain unchanged.\n",
        "\n",
        "13) How do sets handle duplicate values in Python.\n",
        "\n",
        "Ans)-> In Python, sets automatically handle duplicate values by removing them. A set is designed to store only unique elements, so if you try to add a duplicate value, it will simply be ignored. This behavior ensures that each element in the set appears only once, regardless of how many times it is added. For example, if you create a set with values [1, 2, 3, 3, 4, 5, 1], the set will automatically eliminate the duplicates and store only {1, 2, 3, 4, 5}. This makes sets particularly useful when you need to ensure that a collection contains no redundant values, such as when filtering out duplicates from a list or checking for membership without worrying about repetition.\n",
        "\n",
        "14) How does the “in” keyword work differently for lists and dictionaries.\n",
        "\n",
        "Ans)- The \"in\" keyword works differently for lists and dictionaries in Python because of how they store and organize data. When used with a list, the \"in\" keyword checks whether a specific element exists in the list. It scans through the list and returns True if the element is found, and False if not. For example, 3 in [1, 2, 3, 4] would return True, because 3 is an element of the list. In contrast, when used with a dictionary, the \"in\" keyword checks for the presence of a key, not a value. So, key in my_dict will return True if the key exists in the dictionary, and False otherwise. For example, \"name\" in {\"name\": \"Alice\"} would return True, but \"Alice\" in {\"name\": \"Alice\"} would return False, because \"Alice\" is a value, not a key. If you need to check for a value in a dictionary, you would use the .values() method, like \"Alice\" in my_dict.values(). Thus, while both use the \"in\" keyword, the behavior differs based on whether you're dealing with elements in a list or keys in a dictionary.\n",
        "\n",
        "15) Can you modify the elements of a tuple? Explain why or why not.\n",
        "\n",
        "Ans)->  No, you cannot modify the elements of a tuple in Python because tuples are immutable.\n",
        "\n",
        "16) What is a nested dictionary, and give an example of its use case?\n",
        "\n",
        "Ans)-> A nested dictionary in Python is a dictionary where the value associated with one or more keys is itself another dictionary. This allows for the representation of hierarchical or complex data structures, where each key can point to another dictionary containing further details. For example, you could use a nested dictionary to represent a collection of students, with each student's name as the key and another dictionary containing their age, major, and grades as the value. A use case for nested dictionaries could be organizing data in a school management system, where you store detailed information about each student, including their grades in different subjects. This structure makes it easy to access and manage multi-level data, such as retrieving a student's math grade or updating their contact details. Overall, nested dictionaries are useful for representing relationships or attributes that are grouped in categories, and they provide a clear way to handle complex data in Python.\n",
        "\n",
        "17) Describe the time complexity of accessing elements in a dictionary.\n",
        "\n",
        "Ans)-> The time complexity of accessing elements in a dictionary in Python is generally O(1), or constant time. This means that retrieving a value from a dictionary, using a key, typically takes the same amount of time regardless of the size of the dictionary.\n",
        "\n",
        "This efficiency is achieved because Python dictionaries are implemented using hash tables. When you try to access an element using a key, Python computes a hash value for the key and uses it to directly locate the corresponding value in the underlying data structure. The hash function helps map the key to a specific index in the dictionary, enabling fast access.\n",
        "\n",
        "However, in rare cases, when there are hash collisions (i.e., when multiple keys hash to the same value), the time complexity may increase to O(n), where n is the number of elements with the same hash. But Python's hash table implementation uses techniques like open addressing or chaining to handle collisions efficiently, so collisions are typically minimal, and the access time remains close to constant.\n",
        "\n",
        "Overall, in the average case, accessing elements in a dictionary is O(1), making it one of the most efficient data structures for key-value lookups in Python.\n",
        "\n",
        "\n",
        "18)  In what situations are lists preferred over dictionaries?\n",
        "\n",
        "Ans)-> Lists are preferred over dictionaries in situations where the order of elements is important or when you need a simple, ordered collection that can contain duplicates. Unlike dictionaries, which store key-value pairs, lists preserve the order of their elements, making them ideal for scenarios where the sequence matters, such as representing a series of steps or events. Lists also allow multiple instances of the same value, so they are the better choice when you need to store duplicate values, like customer ratings or multiple measurements. Additionally, lists are useful when you need sequential access to elements, such as when iterating through data or accessing items by their index. They are also a natural fit for collections of homogeneous items (e.g., a list of integers or strings), especially when no key-value relationship is needed. Finally, for small datasets where the overhead of hashing in dictionaries isn't necessary, lists can be more lightweight and simpler to use. In contrast, dictionaries are more suited for tasks that require fast lookups by keys or when data needs to be associated with specific identifiers.\n",
        "\n",
        "19) Why are dictionaries considered unordered, and how does that affect data retrieval?\n",
        "\n",
        "Ans)-> Dictionaries in Python are considered unordered because, traditionally, they do not guarantee the order of elements. This is due to the way dictionaries are implemented using hash tables, where keys are hashed to specific locations in memory. The hashing process does not inherently preserve the order of key insertion. As a result, in versions of Python prior to 3.7, dictionaries did not maintain any predictable order when iterating over their elements. This lack of order made it unreliable for tasks that required elements to be accessed in a specific sequence. However, starting with Python 3.7, dictionaries began to preserve insertion order, meaning that elements now appear in the order they were added. Despite this, dictionaries are still considered unordered in principle because their primary design is focused on providing fast key-based lookups rather than maintaining a specific order. For data retrieval, this unordered nature does not affect the efficiency of accessing values by their keys, which remains O(1) on average. However, if order is crucial for your task, such as needing to iterate over elements in a specific sequence, you would need to use a different data structure like a list or a tuple.\n",
        "\n",
        "\n",
        "\n",
        "\n",
        "20) Explain the difference between a list and a dictionary in terms of data retrieval.\n",
        "\n",
        "Ans)-> The main difference between a list and a dictionary in terms of data retrieval lies in how each data structure organizes and accesses its elements. In a list, data is accessed by index, where each element has a fixed position, and you retrieve elements by specifying their index. This means that accessing an element by index is an O(1) operation, making it efficient when you know the index, but searching for an element by value requires O(n) time, as Python may need to scan through the entire list. In contrast, a dictionary stores data as key-value pairs, and retrieval is done using the key. Dictionaries are implemented using hash tables, allowing for O(1) average-time access to values when you know the key, making them highly efficient for lookups. However, if you don’t know the key, you cannot retrieve the value directly unless you search for it. Therefore, while both lists and dictionaries offer fast retrieval, lists are best suited for ordered collections with index-based access, while dictionaries excel in scenarios that require fast key-based lookups.\n",
        "\n",
        "\n"
      ]
    },
    {
      "cell_type": "code",
      "execution_count": null,
      "metadata": {
        "colab": {
          "base_uri": "https://localhost:8080/"
        },
        "id": "l9N3dOV65ZuV",
        "outputId": "3f9894b2-12f5-4c87-a43c-e7fe3c87a0e2"
      },
      "outputs": [
        {
          "name": "stdout",
          "output_type": "stream",
          "text": [
            "Ayush Kumar Tanwar\n"
          ]
        }
      ],
      "source": [
        "#1 Write a code to create a string with your name and print it\n",
        "\n",
        "name = \"Ayush Kumar Tanwar\"\n",
        "print(name)"
      ]
    },
    {
      "cell_type": "code",
      "execution_count": null,
      "metadata": {
        "colab": {
          "base_uri": "https://localhost:8080/"
        },
        "id": "jes8dTZ6Crcr",
        "outputId": "72ae7cfe-189b-45f4-b8d1-ccb62a2c809a"
      },
      "outputs": [
        {
          "name": "stdout",
          "output_type": "stream",
          "text": [
            "11\n"
          ]
        }
      ],
      "source": [
        "#2 Write a code to find the length of the string \"Hello World\"\n",
        "\n",
        "string = \"Hello World\"\n",
        "length = len(string)\n",
        "print(length)"
      ]
    },
    {
      "cell_type": "code",
      "execution_count": null,
      "metadata": {
        "colab": {
          "base_uri": "https://localhost:8080/"
        },
        "id": "-503oNaGC2-S",
        "outputId": "18b3a7d5-43d5-4ddb-d94e-d150725e5a02"
      },
      "outputs": [
        {
          "name": "stdout",
          "output_type": "stream",
          "text": [
            "Pyt\n"
          ]
        }
      ],
      "source": [
        "#3 Write a code to slice the first 3 characters from the string \"Python Programming\"\n",
        "\n",
        "string = \"Python Programming\"\n",
        "sliced_string = string[:3]\n",
        "print(sliced_string)"
      ]
    },
    {
      "cell_type": "code",
      "execution_count": null,
      "metadata": {
        "colab": {
          "base_uri": "https://localhost:8080/"
        },
        "id": "a59C86vzDAoT",
        "outputId": "be336b11-2131-42d2-8617-45cd7e2717e2"
      },
      "outputs": [
        {
          "name": "stdout",
          "output_type": "stream",
          "text": [
            "HELLO\n"
          ]
        }
      ],
      "source": [
        "#4 Write a code to convert the string \"hello\" to uppercase\n",
        "\n",
        "string = \"hello\"\n",
        "uppercase_string = string.upper()\n",
        "print(uppercase_string)"
      ]
    },
    {
      "cell_type": "code",
      "execution_count": null,
      "metadata": {
        "colab": {
          "base_uri": "https://localhost:8080/"
        },
        "id": "aElbbeD2DMkP",
        "outputId": "1439996c-4c02-4aaa-d7b6-bf9f10166007"
      },
      "outputs": [
        {
          "name": "stdout",
          "output_type": "stream",
          "text": [
            "I like orange\n"
          ]
        }
      ],
      "source": [
        "#5  Write a code to replace the word \"apple\" with \"orange\" in the string \"I like apple\"\n",
        "\n",
        "string = \"I like apple\"\n",
        "modified_string = string.replace(\"apple\", \"orange\")\n",
        "print(modified_string)"
      ]
    },
    {
      "cell_type": "code",
      "execution_count": null,
      "metadata": {
        "colab": {
          "base_uri": "https://localhost:8080/"
        },
        "id": "HGoCTCakDXLX",
        "outputId": "4ee96cf4-7885-4bbf-d8bd-eb8a17383968"
      },
      "outputs": [
        {
          "name": "stdout",
          "output_type": "stream",
          "text": [
            "[1, 2, 3, 4, 5]\n"
          ]
        }
      ],
      "source": [
        "#6 Write a code to create a list with numbers 1 to 5 and print it\n",
        "\n",
        "numbers = [1, 2, 3, 4, 5]\n",
        "print(numbers)"
      ]
    },
    {
      "cell_type": "code",
      "execution_count": null,
      "metadata": {
        "colab": {
          "base_uri": "https://localhost:8080/"
        },
        "id": "jRkakA_FDiSO",
        "outputId": "422d70eb-15de-4aa0-e903-f5107724cfd8"
      },
      "outputs": [
        {
          "name": "stdout",
          "output_type": "stream",
          "text": [
            "[1, 2, 3, 4, 10]\n"
          ]
        }
      ],
      "source": [
        "#7  Write a code to append the number 10 to the list [1, 2, 3, 4]\n",
        "\n",
        "numbers = [1, 2, 3, 4]\n",
        "numbers.append(10)\n",
        "print(numbers)"
      ]
    },
    {
      "cell_type": "code",
      "execution_count": null,
      "metadata": {
        "colab": {
          "base_uri": "https://localhost:8080/"
        },
        "id": "YU6GFBWPDtRB",
        "outputId": "0938fda8-811c-4de3-d2d8-4e71958eca84"
      },
      "outputs": [
        {
          "name": "stdout",
          "output_type": "stream",
          "text": [
            "[1, 2, 4, 5]\n"
          ]
        }
      ],
      "source": [
        "#8  Write a code to remove the number 3 from the list [1, 2, 3, 4, 5]\n",
        "\n",
        "numbers = [1, 2, 3, 4, 5]\n",
        "numbers.remove(3)\n",
        "print(numbers)"
      ]
    },
    {
      "cell_type": "code",
      "execution_count": null,
      "metadata": {
        "colab": {
          "base_uri": "https://localhost:8080/"
        },
        "id": "2XdElF4ND2cR",
        "outputId": "129f06c4-7d11-4c72-eb79-47a491cb4ba2"
      },
      "outputs": [
        {
          "name": "stdout",
          "output_type": "stream",
          "text": [
            "b\n"
          ]
        }
      ],
      "source": [
        "#9  Write a code to access the second element in the list ['a', 'b', 'c', 'd']\n",
        "\n",
        "my_list = ['a', 'b', 'c', 'd']\n",
        "second_element = my_list[1]\n",
        "print(second_element)"
      ]
    },
    {
      "cell_type": "code",
      "execution_count": null,
      "metadata": {
        "colab": {
          "base_uri": "https://localhost:8080/"
        },
        "id": "MMWXmW0UEAUT",
        "outputId": "f99070ab-bbd5-4afa-f995-fce532dad39c"
      },
      "outputs": [
        {
          "name": "stdout",
          "output_type": "stream",
          "text": [
            "[50, 40, 30, 20, 10]\n"
          ]
        }
      ],
      "source": [
        "#10 Write a code to reverse the list [10, 20, 30, 40, 50].\n",
        "\n",
        "my_list = [10, 20, 30, 40, 50]\n",
        "reversed_list = my_list[::-1]\n",
        "print(reversed_list)\n"
      ]
    },
    {
      "cell_type": "code",
      "execution_count": null,
      "metadata": {
        "colab": {
          "base_uri": "https://localhost:8080/"
        },
        "id": "ivQryf2YEKqw",
        "outputId": "dff43a9d-2363-4639-b105-6e5e8dcbefdc"
      },
      "outputs": [
        {
          "name": "stdout",
          "output_type": "stream",
          "text": [
            "(100, 200, 300)\n"
          ]
        }
      ],
      "source": [
        "#11 Write a code to create a tuple with the elements 100, 200, 300 and print it\n",
        "\n",
        "my_tuple = (100, 200, 300)\n",
        "print(my_tuple)"
      ]
    },
    {
      "cell_type": "code",
      "execution_count": null,
      "metadata": {
        "colab": {
          "base_uri": "https://localhost:8080/"
        },
        "id": "QthVpmdkEUnO",
        "outputId": "840bc0b6-d3c5-429a-d86c-49c0ff115921"
      },
      "outputs": [
        {
          "name": "stdout",
          "output_type": "stream",
          "text": [
            "blue\n"
          ]
        }
      ],
      "source": [
        "#12 Write a code to access the second-to-last element of the tuple ('red', 'green', 'blue', 'yellow').\n",
        "\n",
        "my_tuple = ('red', 'green', 'blue', 'yellow')\n",
        "second_to_last = my_tuple[-2]\n",
        "print(second_to_last)\n"
      ]
    },
    {
      "cell_type": "code",
      "execution_count": null,
      "metadata": {
        "colab": {
          "base_uri": "https://localhost:8080/"
        },
        "id": "HeaPLfd_EeYC",
        "outputId": "50000a6d-beda-4666-ea36-e9320cd87d72"
      },
      "outputs": [
        {
          "name": "stdout",
          "output_type": "stream",
          "text": [
            "5\n"
          ]
        }
      ],
      "source": [
        "#13 Write a code to find the minimum number in the tuple (10, 20, 5, 15).\n",
        "\n",
        "my_tuple = (10, 20, 5, 15)\n",
        "min_value = min(my_tuple)\n",
        "print(min_value)"
      ]
    },
    {
      "cell_type": "code",
      "execution_count": null,
      "metadata": {
        "colab": {
          "base_uri": "https://localhost:8080/"
        },
        "id": "vCFRBSl-EhT0",
        "outputId": "016c8b26-5984-405b-800a-0456e748c415"
      },
      "outputs": [
        {
          "name": "stdout",
          "output_type": "stream",
          "text": [
            "1\n"
          ]
        }
      ],
      "source": [
        "#14 Write a code to find the index of the element \"cat\" in the tuple ('dog', 'cat', 'rabbit').\n",
        "\n",
        "my_tuple = ('dog', 'cat', 'rabbit')\n",
        "index_of_cat = my_tuple.index('cat')\n",
        "print(index_of_cat)"
      ]
    },
    {
      "cell_type": "code",
      "execution_count": null,
      "metadata": {
        "colab": {
          "base_uri": "https://localhost:8080/"
        },
        "id": "QuRpWJVNEi28",
        "outputId": "cb5413a8-6b62-4e95-c5ba-989446254242"
      },
      "outputs": [
        {
          "name": "stdout",
          "output_type": "stream",
          "text": [
            "False\n"
          ]
        }
      ],
      "source": [
        "#15 Write a code to create a tuple containing three different fruits and check if \"kiwi\" is in it.\n",
        "\n",
        "fruits = ('apple', 'banana', 'cherry')\n",
        "is_kiwi_in_tuple = 'kiwi' in fruits\n",
        "print(is_kiwi_in_tuple)"
      ]
    },
    {
      "cell_type": "code",
      "execution_count": null,
      "metadata": {
        "colab": {
          "base_uri": "https://localhost:8080/"
        },
        "id": "Xo99NgxOEj3n",
        "outputId": "b0c412b3-8e0d-45ba-9ffe-84d3d3103519"
      },
      "outputs": [
        {
          "name": "stdout",
          "output_type": "stream",
          "text": [
            "{'b', 'c', 'a'}\n"
          ]
        }
      ],
      "source": [
        "#16 Write a code to create a set with the elements 'a', 'b', 'c' and print it.\n",
        "\n",
        "my_set = {'a', 'b', 'c'}\n",
        "print(my_set)"
      ]
    },
    {
      "cell_type": "code",
      "execution_count": null,
      "metadata": {
        "colab": {
          "base_uri": "https://localhost:8080/"
        },
        "id": "aCnPvGeXEpO7",
        "outputId": "cbe108ba-0051-4e5f-b312-17eb2702e032"
      },
      "outputs": [
        {
          "name": "stdout",
          "output_type": "stream",
          "text": [
            "set()\n"
          ]
        }
      ],
      "source": [
        "#17 Write a code to clear all elements from the set {1, 2, 3, 4, 5}.\n",
        "\n",
        "my_set = {1, 2, 3, 4, 5}\n",
        "my_set.clear()\n",
        "print(my_set)"
      ]
    },
    {
      "cell_type": "code",
      "execution_count": null,
      "metadata": {
        "colab": {
          "base_uri": "https://localhost:8080/"
        },
        "id": "FSaImz-oErFi",
        "outputId": "439294e0-a4c4-4a11-c7b6-a193e8a1ea23"
      },
      "outputs": [
        {
          "name": "stdout",
          "output_type": "stream",
          "text": [
            "{1, 2, 3}\n"
          ]
        }
      ],
      "source": [
        "#18 Write a code to remove the element 4 from the set {1, 2, 3, 4}.\n",
        "\n",
        "my_set = {1, 2, 3, 4}\n",
        "my_set.remove(4)\n",
        "print(my_set)"
      ]
    },
    {
      "cell_type": "code",
      "execution_count": null,
      "metadata": {
        "colab": {
          "base_uri": "https://localhost:8080/"
        },
        "id": "nVoUyFVTEsEg",
        "outputId": "738aba2e-3dce-46d2-b78d-19f4fdeb9945"
      },
      "outputs": [
        {
          "name": "stdout",
          "output_type": "stream",
          "text": [
            "{1, 2, 3, 4, 5}\n"
          ]
        }
      ],
      "source": [
        "#19 Write a code to find the union of two sets {1, 2, 3} and {3, 4, 5}.\n",
        "\n",
        "set1 = {1, 2, 3}\n",
        "set2 = {3, 4, 5}\n",
        "union_set = set1.union(set2)\n",
        "print(union_set)"
      ]
    },
    {
      "cell_type": "code",
      "execution_count": null,
      "metadata": {
        "colab": {
          "base_uri": "https://localhost:8080/"
        },
        "id": "mo1YWrglEs-J",
        "outputId": "462de8fc-6c74-42c2-ea06-3da0a7f89ee6"
      },
      "outputs": [
        {
          "name": "stdout",
          "output_type": "stream",
          "text": [
            "{2, 3}\n"
          ]
        }
      ],
      "source": [
        "#20 Write a code to find the intersection of two sets {1, 2, 3} and {2, 3, 4}.\n",
        "\n",
        "set1 = {1, 2, 3}\n",
        "set2 = {2, 3, 4}\n",
        "intersection_set = set1.intersection(set2)\n",
        "print(intersection_set)"
      ]
    },
    {
      "cell_type": "code",
      "execution_count": null,
      "metadata": {
        "colab": {
          "base_uri": "https://localhost:8080/"
        },
        "id": "nePr8Aj0Etym",
        "outputId": "31d28b2b-22fd-4a50-e206-c0d3c39bb0df"
      },
      "outputs": [
        {
          "name": "stdout",
          "output_type": "stream",
          "text": [
            "{'name': 'Ayush', 'age': 25, 'city': 'New York'}\n"
          ]
        }
      ],
      "source": [
        "#21  Write a code to create a dictionary with the keys \"name\", \"age\", and \"city\", and print it.\n",
        "\n",
        "my_dict = {\n",
        "    \"name\": \"Ayush\",\n",
        "    \"age\": 25,\n",
        "    \"city\": \"New York\"\n",
        "}\n",
        "\n",
        "print(my_dict)"
      ]
    },
    {
      "cell_type": "code",
      "execution_count": null,
      "metadata": {
        "colab": {
          "base_uri": "https://localhost:8080/"
        },
        "id": "V1_di4i6Eu0i",
        "outputId": "ca0416e1-3b34-4aba-a3ed-a7862c54b693"
      },
      "outputs": [
        {
          "name": "stdout",
          "output_type": "stream",
          "text": [
            "{'name': 'John', 'age': 25, 'country': 'USA'}\n"
          ]
        }
      ],
      "source": [
        "#22  Write a code to add a new key-value pair \"country\": \"USA\" to the dictionary {'name': 'John', 'age': 25}.\n",
        "\n",
        "my_dict = {'name': 'John', 'age': 25}\n",
        "my_dict['country'] = 'USA'\n",
        "print(my_dict)"
      ]
    },
    {
      "cell_type": "code",
      "execution_count": null,
      "metadata": {
        "id": "LirqIzmpEvjR"
      },
      "outputs": [],
      "source": [
        "#23  Write a code to access the value associated with the key \"name\" in the dictionary {'name': 'Alice', 'age': 30}\n",
        "\n",
        "my_dict = {'name': 'Alice', 'age': 30}\n",
        "name_value = my_dict['name']\n",
        "print(name_value)"
      ]
    },
    {
      "cell_type": "code",
      "execution_count": null,
      "metadata": {
        "colab": {
          "base_uri": "https://localhost:8080/"
        },
        "id": "AWcZ9x8wEwet",
        "outputId": "5da05fcb-af06-4e7f-be97-622335329bee"
      },
      "outputs": [
        {
          "name": "stdout",
          "output_type": "stream",
          "text": [
            "{'name': 'Bob', 'city': 'New York'}\n"
          ]
        }
      ],
      "source": [
        "#24  Write a code to remove the key \"age\" from the dictionary {'name': 'Bob', 'age': 22, 'city': 'New York'}\n",
        "\n",
        "my_dict = {'name': 'Bob', 'age': 22, 'city': 'New York'}\n",
        "del my_dict['age']\n",
        "print(my_dict)"
      ]
    },
    {
      "cell_type": "code",
      "execution_count": null,
      "metadata": {
        "colab": {
          "base_uri": "https://localhost:8080/"
        },
        "id": "cvX5YQJmExxX",
        "outputId": "e2572b1d-b444-409e-d93f-549c39d21853"
      },
      "outputs": [
        {
          "name": "stdout",
          "output_type": "stream",
          "text": [
            "True\n"
          ]
        }
      ],
      "source": [
        "#25  Write a code to check if the key \"city\" exists in the dictionary {'name': 'Alice', 'city': 'Paris'}.\n",
        "\n",
        "my_dict = {'name': 'Alice', 'city': 'Paris'}\n",
        "city_exists = 'city' in my_dict\n",
        "print(city_exists)"
      ]
    },
    {
      "cell_type": "code",
      "execution_count": null,
      "metadata": {
        "colab": {
          "base_uri": "https://localhost:8080/"
        },
        "id": "tMDY0VMKEyhU",
        "outputId": "b71e00e5-8708-4220-f401-f22148c1a63e"
      },
      "outputs": [
        {
          "name": "stdout",
          "output_type": "stream",
          "text": [
            "List: [1, 2, 3, 4, 5]\n",
            "Tuple: ('apple', 'banana', 'cherry')\n",
            "Dictionary: {'name': 'Alice', 'age': 25, 'city': 'Wonderland'}\n"
          ]
        }
      ],
      "source": [
        "#26  Write a code to create a list, a tuple, and a dictionary, and print them all.\n",
        "\n",
        "my_list = [1, 2, 3, 4, 5]\n",
        "\n",
        "my_tuple = ('apple', 'banana', 'cherry')\n",
        "\n",
        "my_dict = {'name': 'Alice', 'age': 25, 'city': 'Wonderland'}\n",
        "\n",
        "print(\"List:\", my_list)\n",
        "print(\"Tuple:\", my_tuple)\n",
        "print(\"Dictionary:\", my_dict)"
      ]
    },
    {
      "cell_type": "code",
      "execution_count": null,
      "metadata": {
        "colab": {
          "base_uri": "https://localhost:8080/"
        },
        "id": "G811QLXyEzb0",
        "outputId": "ef30784f-2f1e-4299-c7ae-665ff27f2d44"
      },
      "outputs": [
        {
          "name": "stdout",
          "output_type": "stream",
          "text": [
            "Sorted random numbers: [24, 38, 45, 80, 94]\n"
          ]
        }
      ],
      "source": [
        "#27 Write a code to create a list of 5 random numbers between 1 and 100, sort it in ascending order, and print the result.(replaced)\n",
        "\n",
        "import random\n",
        "\n",
        "random_numbers = random.sample(range(1, 101), 5)\n",
        "\n",
        "random_numbers.sort()\n",
        "\n",
        "print(\"Sorted random numbers:\", random_numbers)"
      ]
    },
    {
      "cell_type": "code",
      "execution_count": null,
      "metadata": {
        "colab": {
          "base_uri": "https://localhost:8080/"
        },
        "id": "dcQchaZ0E0Al",
        "outputId": "e92469b3-ec44-4331-a475-a84f15cadbd6"
      },
      "outputs": [
        {
          "name": "stdout",
          "output_type": "stream",
          "text": [
            "cherry\n"
          ]
        }
      ],
      "source": [
        "#28  Write a code to create a list with strings and print the element at the third index.\n",
        "\n",
        "my_list = ['apple', 'banana', 'cherry', 'date', 'elderberry']\n",
        "third_element = my_list[2]\n",
        "print(third_element)"
      ]
    },
    {
      "cell_type": "code",
      "execution_count": null,
      "metadata": {
        "colab": {
          "base_uri": "https://localhost:8080/"
        },
        "id": "bdS3SZVHE1FX",
        "outputId": "324bc454-9245-418b-f8b1-9666ea8b148e"
      },
      "outputs": [
        {
          "name": "stdout",
          "output_type": "stream",
          "text": [
            "{'a': 1, 'b': 2, 'c': 3, 'd': 4}\n"
          ]
        }
      ],
      "source": [
        "#29 Write a code to combine two dictionaries into one and print the result\n",
        "\n",
        "dict1 = {'a': 1, 'b': 2}\n",
        "dict2 = {'c': 3, 'd': 4}\n",
        "\n",
        "combined_dict = {**dict1, **dict2}\n",
        "\n",
        "print(combined_dict)"
      ]
    },
    {
      "cell_type": "code",
      "execution_count": null,
      "metadata": {
        "colab": {
          "base_uri": "https://localhost:8080/"
        },
        "id": "eW0qMYsYE104",
        "outputId": "5a138739-d273-4564-88f0-f7ad6979ae36"
      },
      "outputs": [
        {
          "name": "stdout",
          "output_type": "stream",
          "text": [
            "{'apple', 'elderberry', 'banana', 'cherry', 'date'}\n"
          ]
        }
      ],
      "source": [
        "#30 Write a code to convert a list of strings into a set.\n",
        "\n",
        "my_list = ['apple', 'banana', 'cherry', 'date', 'elderberry']\n",
        "my_set = set(my_list)\n",
        "print(my_set)\n"
      ]
    }
  ],
  "metadata": {
    "colab": {
      "provenance": []
    },
    "kernelspec": {
      "display_name": "Python 3",
      "name": "python3"
    },
    "language_info": {
      "name": "python"
    }
  },
  "nbformat": 4,
  "nbformat_minor": 0
}
